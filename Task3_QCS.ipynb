{
  "nbformat": 4,
  "nbformat_minor": 0,
  "metadata": {
    "kernelspec": {
      "display_name": "Python 3",
      "language": "python",
      "name": "python3"
    },
    "language_info": {
      "codemirror_mode": {
        "name": "ipython",
        "version": 3
      },
      "file_extension": ".py",
      "mimetype": "text/x-python",
      "name": "python",
      "nbconvert_exporter": "python",
      "pygments_lexer": "ipython3",
      "version": "3.8.5"
    },
    "colab": {
      "name": "Task3_QCS.ipynb",
      "provenance": [],
      "machine_shape": "hm"
    },
    "accelerator": "GPU"
  },
  "cells": [
    {
      "cell_type": "markdown",
      "metadata": {
        "id": "xNKy56c9GE9J"
      },
      "source": [
        "# Task 3 -  Quantum Circuit Simulator \n",
        "\n",
        "\n",
        "\n",
        "\n"
      ]
    },
    {
      "cell_type": "markdown",
      "metadata": {
        "id": "ne1v06YBKQOB"
      },
      "source": [
        "\r\n",
        "**Introduction**\r\n",
        "\r\n",
        "Simulation of quantum systems on classical computers is a crucial task for the verification of quantum devices and the evaluation of quantum algorithms. \r\n",
        "The goal of this project is to implement a simple quantum circuit simulator. More specifically, a simulator that can perform the following tasks.\r\n",
        "\r\n",
        "- initialize state\r\n",
        "\r\n",
        "- read program, and for each gate:\r\n",
        "    - calculate matrix operator\r\n",
        "    - apply operator (modify state)\r\n",
        "    \r\n",
        "- perform multi-shot measurement of all qubits using weighted random technique\r\n",
        "\r\n",
        "**Qubit**\r\n",
        "\r\n",
        "The Qubit is the basic unit of quantum information and a fundamental piece for quantum computing. It is a two-state quantum-mechanical system, and can be represented by a linear superposition of two orthonormal basis states or basis vectors. The vector representation of a Qubit is the following: \r\n",
        "\r\n",
        "${\\vert a\\rangle =v_{0} \\vert 0\\rangle +v_{1} \\vert 1\\rangle \\rightarrow {\\begin{bmatrix}v_{0}\\\\v_{1}\\end{bmatrix}}}$\r\n",
        "\r\n",
        "Meanwhile a combined state of multiple qubits is the tensor product of their states. For example, the vector representation of two Qubits is:\r\n",
        "\r\n",
        "${\\displaystyle \\vert ab\\rangle =\\vert a\\rangle \\otimes \\vert b\\rangle =v_{00}\\vert 00\\rangle +v_{01}\\vert 01\\rangle +v_{10}\\vert 10\\rangle +v_{11}\\vert 11\\rangle \\rightarrow {\\begin{bmatrix}v_{00}\\\\v_{01}\\\\v_{10}\\\\v_{11}\\end{bmatrix}}}$\r\n",
        "\r\n"
      ]
    },
    {
      "cell_type": "markdown",
      "metadata": {
        "id": "Z9kyToEpaNDG"
      },
      "source": [
        "**Quantum gates**\r\n",
        "\r\n",
        "In the quantum circuit model, a quantum logic gate is the basic quantum circuit operating in a determined number of qubits. Quantum gates are represented by unitary matrices. A quantum gate which acts on $n$ qubits is represented by a $2^n \\times 2^n$ unitary matrix. The most common quantum gates operate with one or two qubits, just like their classical counterpart. \r\n",
        "\r\n",
        "\r\n",
        "The action of a quantum gate is calculated by multiplying the vector ${\\vert a_1\\rangle }$ by the matrix $U$ representing the quantum gate. The result is a new quantum state ${\\vert a_2\\rangle }$ calculated in the following way.\r\n",
        "\r\n",
        "$U {\\vert a_1\\rangle } = {\\vert a_2\\rangle }$\r\n"
      ]
    },
    {
      "cell_type": "markdown",
      "metadata": {
        "id": "Fu_2ycjeTDrr"
      },
      "source": [
        "\r\n",
        "**Numpy**\r\n",
        "\r\n",
        "To represent qubits or quantum gates in a classical computer, the usual way is to use arrays or matrices of complex numbers. For example in python, we commonly implement these quantum entities with the help of powerful frameworks such as Numpy. This framework is designed to work with multi-dimensional arrays and matrices, and to perform high-level mathematical functions with them.\r\n",
        "However, although Numpy is designed to take advantage of multiple CPU cores to perform its calculations, it neglects to take advantage of the powerful GPUs available today to speed up linear algebra operations.\r\n",
        "\r\n",
        "\r\n"
      ]
    },
    {
      "cell_type": "markdown",
      "metadata": {
        "id": "OSD9y2LQ0QN8"
      },
      "source": [
        "**Pytorch**\r\n",
        "\r\n",
        "PyTorch is an open source framework for machine learning. It is based on Torch and is commonly used for the development and research of deep neural networks. PyTorch was built for two objectives: Development of Deep Neural Networks, and Tensor computing (like NumPy but with acceleration via graphic processing units). \r\n",
        "\r\n",
        "\r\n",
        "\r\n",
        "\r\n"
      ]
    },
    {
      "cell_type": "markdown",
      "metadata": {
        "id": "EgQfy93ZBUPw"
      },
      "source": [
        "**Proposed Approach**\r\n",
        "\r\n",
        "To implement a quantum circuit simulator, we need a framework to efficiently perform calculations with multi-dimensional arrays (Such as Numpy or Pytorch). Next, to take advantage of the speed up provided by modern GPUs, we chose PyTorch to buld our architecture. We tested and developed our simulator using Google Colab and a Nvidia V100 as GPU. This GPU lets us work with circuits of 14 qubits before running out of memory. Finally, we implemented the possibility to run circuits in CPU mode as well."
      ]
    },
    {
      "cell_type": "markdown",
      "metadata": {
        "id": "QF4yg89lWGm5"
      },
      "source": [
        "# Quantum GPU Circuit Simulator"
      ]
    },
    {
      "cell_type": "code",
      "metadata": {
        "id": "KJjzVWO8GE9V"
      },
      "source": [
        "import torch\n",
        "from torch.utils.data.sampler import WeightedRandomSampler\n",
        "from collections import Counter, OrderedDict\n",
        "import numpy as np\n",
        "import math  \n",
        "\n",
        "# We define the elemental quantum gates\n",
        "\n",
        "#Hadamard\n",
        "H_t = torch.tensor([\n",
        "[1/np.sqrt(2), 1/np.sqrt(2)],\n",
        "[1/np.sqrt(2), -1/np.sqrt(2)]\n",
        "],  dtype=torch.cfloat)\n",
        "\n",
        "#Pauli-X\n",
        "X_t = torch.tensor([\n",
        "[0, 1],\n",
        "[1, 0]\n",
        "],  dtype=torch.cfloat)\n",
        "\n",
        "#Pauli-Y\n",
        "Y_t = torch.tensor([\n",
        "[0, -1j],\n",
        "[1j, 0]\n",
        "],  dtype=torch.cfloat)\n",
        "\n",
        "#Pauli-Z\n",
        "Z_t = torch.tensor([\n",
        "[1, 0],\n",
        "[0, -1]\n",
        "],  dtype=torch.cfloat)\n",
        "\n",
        "#Swap gate\n",
        "Swap_t = torch.tensor([\n",
        "[1, 0, 0, 0],\n",
        "[0, 0, 1, 0],\n",
        "[0, 1, 0, 0],\n",
        "[0, 0, 0, 1]\n",
        "],  dtype=torch.cfloat)\n",
        "\n",
        "#Projector in 0\n",
        "P0x0_t = torch.tensor([\n",
        "[1, 0],\n",
        "[0, 0]\n",
        "],  dtype=torch.cfloat)\n",
        "\n",
        "#Projector in 1\n",
        "P1x1_t = torch.tensor([\n",
        "[0, 0],\n",
        "[0, 1]\n",
        "],  dtype=torch.cfloat)\n",
        "\n",
        "def kron(a, b):\n",
        "    #return the kronecker product between two tensors\n",
        "    assert a.dim() == b.dim()\n",
        "    a_view_shape = []\n",
        "    b_view_shape = []\n",
        "    ab_view_shape = []\n",
        "    for i in range(a.dim()):\n",
        "        a_view_shape.append(a.size(i))\n",
        "        a_view_shape.append(1)\n",
        "        b_view_shape.append(1)\n",
        "        b_view_shape.append(b.size(i))\n",
        "        ab_view_shape.append(a.size(i) * b.size(i))\n",
        "    return (a.reshape(a_view_shape) * \n",
        "            b.reshape(b_view_shape)).reshape(ab_view_shape)\n",
        "\n",
        "def get_ground_state(num_qubits):\n",
        "    # return vector of size 2**num_qubits with all zeroes except first element which is 1\n",
        "    state = torch.zeros(1, 2**num_qubits, dtype=torch.cfloat)\n",
        "    state[0,0] =  1+0j\n",
        "    return state\n",
        "\n",
        "def formulate_u3(parameters):\n",
        "    #return the matrix definition of the u3 gate given theta, phi and lambda values\n",
        "    theta = float(parameters[\"theta\"])\n",
        "    phi = float(parameters[\"phi\"])\n",
        "    lam = float(parameters[\"lambda\"])\n",
        "\n",
        "    cos = np.cos(theta / 2)\n",
        "    sin = np.sin(theta / 2)\n",
        "\n",
        "    u3 = torch.tensor([\n",
        "    [cos, -np.exp(1j * lam) * sin],\n",
        "    [np.exp(1j * phi) * sin, np.exp(1j * (phi + lam)) * cos]\n",
        "    ],  dtype=torch.cfloat)\n",
        "\n",
        "    # print(np.rint(u3.numpy()))\n",
        "    return u3\n",
        "\n",
        "def get_controlled_operator(total_qubits, \n",
        "                            gate_unitary,\n",
        "                            control_qubits,\n",
        "                            target_qubits, \n",
        "                            cuda = False):\n",
        "  \n",
        "    # return controlled unitary operator given gate and target qubits\n",
        "\n",
        "    identity = torch.eye(2).cuda() if cuda else torch.eye(2)\n",
        "    gate_unitary = gate_unitary.cuda() if cuda else gate_unitary\n",
        "    projection0 = P0x0_t.cuda() if cuda else P0x0_t  \n",
        "    projection1 = P1x1_t.cuda() if cuda else P1x1_t\n",
        "\n",
        "    if control_qubits[0] == 0:\n",
        "        current_gate1 = projection0\n",
        "        current_gate2 = projection1\n",
        "    elif target_qubits[0] == 0:\n",
        "        current_gate1 = identity\n",
        "        current_gate2 = gate_unitary\n",
        "    else:\n",
        "        current_gate1 = identity\n",
        "        current_gate2 = identity    \n",
        "\n",
        "    for i in range(1, total_qubits):\n",
        "\n",
        "        if i in control_qubits:\n",
        "            current_gate1 = kron(current_gate1, projection0)\n",
        "            current_gate2 = kron(current_gate2, projection1)\n",
        "        else: \n",
        "            current_gate1 = kron(current_gate1, identity)\n",
        "\n",
        "            if i in target_qubits:\n",
        "                current_gate2 = kron(current_gate2, gate_unitary)\n",
        "            else:\n",
        "                current_gate2 = kron(current_gate2, identity)\n",
        "\n",
        "    return current_gate1 + current_gate2\n",
        "\n",
        "def get_operator(total_qubits,\n",
        "                 gate_unitary, \n",
        "                 target_qubits, \n",
        "                 cuda = False):\n",
        "  \n",
        "    # return unitary operator of given gate and target qubits\n",
        "\n",
        "    identity = torch.eye(2).cuda() if cuda else torch.eye(2)\n",
        "    gate_unitary = gate_unitary.cuda() if cuda else gate_unitary\n",
        "\n",
        "    if target_qubits[0] == 0:\n",
        "        current_gate = gate_unitary\n",
        "    else:\n",
        "        current_gate = identity\n",
        "\n",
        "\n",
        "    for i in range(1, total_qubits):\n",
        "        if i in target_qubits:\n",
        "            current_gate = kron(current_gate, gate_unitary)\n",
        "        else:\n",
        "            current_gate = kron(current_gate, identity)\n",
        "\n",
        "    return current_gate\n",
        "\n",
        "def run_program(initial_state, program, params = None, cuda = False):\n",
        "    \n",
        "    # read program, and for each gate:\n",
        "    #   - calculate matrix operator\n",
        "    #   - multiply state with operator\n",
        "    # return final state\n",
        "\n",
        "    initial_state = initial_state.cuda() if cuda else initial_state\n",
        "    number_of_qubits = initial_state.shape[1].bit_length() - 1\n",
        "    for instruction in program:\n",
        "        if instruction[\"gate\"] == \"h\":\n",
        "            current_operator = get_operator(number_of_qubits, H_t, \n",
        "                                            instruction[\"target\"],\n",
        "                                            cuda = cuda)\n",
        "        elif instruction[\"gate\"] == \"x\":\n",
        "            current_operator = get_operator(number_of_qubits, X_t,\n",
        "                                            instruction[\"target\"],\n",
        "                                            cuda = cuda)\n",
        "        elif instruction[\"gate\"] == \"z\":\n",
        "            current_operator = get_operator(number_of_qubits, Z_t,\n",
        "                                            instruction[\"target\"],\n",
        "                                            cuda = cuda)\n",
        "        elif instruction[\"gate\"] == \"y\":\n",
        "            current_operator = get_operator(number_of_qubits, Y_t,\n",
        "                                            instruction[\"target\"],\n",
        "                                            cuda = cuda)\n",
        "        elif instruction[\"gate\"] == \"u3\":\n",
        "            current_gate = formulate_u3(instruction[\"params\"] if params is None else params)\n",
        "            current_operator = get_operator(number_of_qubits, current_gate,\n",
        "                                            instruction[\"target\"],\n",
        "                                            cuda = cuda)\n",
        "        elif instruction[\"gate\"] == \"cx\":\n",
        "            current_operator = get_controlled_operator(number_of_qubits, X_t,\n",
        "                                                       instruction[\"control\"],  \n",
        "                                                       instruction[\"target\"],\n",
        "                                                       cuda = cuda)   \n",
        "\n",
        "        initial_state = torch.matmul(initial_state, current_operator)\n",
        "\n",
        "    return initial_state\n",
        "\n",
        "def get_counts(state_vector, num_shots, print_results = False):\n",
        "    \n",
        "    # simply execute measure_all in a loop num_shots times and\n",
        "    state_vector = state_vector.abs()**2\n",
        "    sampler = WeightedRandomSampler(state_vector, num_shots)\n",
        "    format = '{0:0' + str(state_vector.shape[1].bit_length() - 1) + 'b}'\n",
        "\n",
        "    for idx in sampler:\n",
        "        counter = Counter(idx)\n",
        "\n",
        "    if print_results:\n",
        "        print('{')\n",
        "        for element in sorted(counter.items()) :\n",
        "            print(\"\\t\\\"\" +  format.format(element[0]) + '\\\" : ' + str(element[1]))\n",
        "        print('}')\n",
        "\n",
        "    return counter"
      ],
      "execution_count": 1,
      "outputs": []
    },
    {
      "cell_type": "markdown",
      "metadata": {
        "id": "WdN6zUIhXQKH"
      },
      "source": [
        "# Requirement 1\r\n",
        "\r\n"
      ]
    },
    {
      "cell_type": "markdown",
      "metadata": {
        "id": "FNfhJDRUJqYv"
      },
      "source": [
        "The simulator should initialize a state, read a program like the following one, and perform multi-shot measurement of all qubits using a weighted random technique.\r\n",
        "\r\n",
        "\r\n",
        "\r\n",
        "\r\n",
        "```\r\n",
        "[\r\n",
        "  { \"gate\": \"h\", \"target\": [0] }, \r\n",
        "  { \"gate\": \"cx\", \"target\": [0, 1] }\r\n",
        "  ...\r\n",
        "]\r\n",
        "```\r\n",
        "\r\n"
      ]
    },
    {
      "cell_type": "markdown",
      "metadata": {
        "id": "l30KzTYwNjAW"
      },
      "source": [
        "**Deutsch-Jozsa Algorithm**\r\n",
        "\r\n",
        "With the goal of demonstrating  the functionality of our simulator we implemented the famous Deutsch-Jozsa Algorithm. This was the first example of a quantum algorithm that performs better than its classical counterpart, and showed that there can be advantages to using a quantum computer as a computational tool. \r\n",
        "\r\n",
        "**Deutsch-Jozsa Problem**\r\n",
        "\r\n",
        "We are given a hidden boolean function $f$, which takes as input a string of bits, and returns either $0$ or $1$:\r\n",
        "\r\n",
        "$f(\\{x_0,x_1,x_2,...\\}) \\rightarrow 0 \\textrm{ or } 1 \\textrm{ , where } x_n \\textrm{ is } 0 \\textrm{ or } 1$\r\n",
        "\r\n",
        "The feature of the given boolean function is that it is guaranteed to be balanced or constant. A constant function as the name implies, return $0$ or $1$ for any input. While the balanced function return $0$ for one half of the inputs and $1$ for the other half.\r\n",
        "\r\n",
        "**Quantum Oracle**\r\n",
        "\r\n",
        "Quantum Oracle is a black box which is commonly used in quantum algorithms. Often, the oracle is defined using a classical function $f: \\{ 0,1 \\}^{n} \\rightarrow \\{ 0,1 \\}^{m}$ which takes an $n$-bit binary input and produces an $m$-bit binary output. Then, with the purpose of making the oracle a quantum operator, it needs to be an unitary operator. Then, we define the Oracle in the following way:\r\n",
        "\r\n",
        "$ O ( \\vert x\\rangle \\oplus \\vert  y \\rangle ) = \\vert x\\rangle \\vert y \\oplus f(x)\\rangle$\r\n",
        "\r\n",
        "\r\n",
        "\r\n",
        "**Quantum solution**\r\n",
        "\r\n",
        "Using a quantum computer, we can solve this problem with 100% accuracy, with a single call of the boolean function. But for that, we need the boolean function $f$ implemented as a quantum oracle, which is going to map the state $\\vert x\\rangle \\vert y\\rangle$ to the state $\\vert x\\rangle \\vert y \\oplus f(x)\\rangle$, where $\\oplus$ is addition module 2. \r\n",
        "\r\n",
        "\r\n",
        "**Algorithm description**\r\n",
        "\r\n",
        "\r\n",
        "1. The first step, is to prepare two quantum registers. The first is going to be a n-qubit register initialised to $|0\\rangle$ and the second is a one-qubit reigster initialised to $|1\\rangle$:\r\n",
        "\r\n",
        "  $\\vert \\psi_0 \\rangle = \\vert0\\rangle^{\\otimes n} \\vert 1\\rangle$\r\n",
        "\r\n",
        "2. Apply the Hadamard gate all registers:\r\n",
        "\r\n",
        "  $\\vert \\psi_1 \\rangle = \\frac{1}{\\sqrt{2^{n+1}}}\\sum_{x=0}^{2^n-1} \\vert x\\rangle \\left(|0\\rangle - |1 \\rangle \\right)$\r\n",
        "\r\n",
        "3. Apply the quantum oracle:\r\n",
        "\r\n",
        "  $\\vert \\psi_2 \\rangle = \\frac{1}{\\sqrt{2^{n+1}}}\\sum_{x=0}^{2^n-1} \\vert x\\rangle \\left(|f(x)\\rangle - |1 \\otimes f(x) \\rangle \\right)$\r\n",
        "\r\n",
        "  $\\vert \\psi_2 \\rangle = \\frac{1}{\\sqrt{2^{n+1}}}\\sum_{x=0}^{2^n-1} (-1)^{f(x)}\\vert x\\rangle \\left(|0\\rangle - |1  \\rangle \\right)$\r\n",
        "\r\n",
        "4. Apply Hadamard to each qubit of the first register:\r\n",
        "\r\n",
        "  $\\begin{aligned}\r\n",
        "              \\lvert \\psi_3 \\rangle \r\n",
        "                  & = \\frac{1}{2^n}\\sum_{x=0}^{2^n-1}(-1)^{f(x)}\r\n",
        "                      \\left[ \\sum_{y=0}^{2^n-1}(-1)^{x \\cdot y} \r\n",
        "                      \\vert y \\rangle \\right] \r\n",
        "                  & \r\n",
        "  \\end{aligned}$\r\n",
        "\r\n",
        "  $\\begin{aligned}\r\n",
        "              \\lvert \\psi_3 \\rangle \r\n",
        "                    & = \\frac{1}{2^n}\\sum_{y=0}^{2^n-1}\r\n",
        "                    \\left[ \\sum_{x=0}^{2^n-1}(-1)^{f(x)}(-1)^{x \\cdot y} \\right]\r\n",
        "                    \\vert y \\rangle\r\n",
        "  \\end{aligned}$\r\n",
        "\r\n",
        "5. Measure the first register. The probability of measuring $\\vert 0 \\rangle ^{\\otimes n} = \\lvert \\frac{1}{2^n}\\sum_{x=0}^{2^n-1}(-1)^{f(x)} \\rvert^2$ will be $1$ if $f(x)$ is constant and $0$ if $f(x)$ is balanced.\r\n",
        "\r\n",
        "**Implementation**"
      ]
    },
    {
      "cell_type": "code",
      "metadata": {
        "colab": {
          "base_uri": "https://localhost:8080/"
        },
        "id": "jQLZCRaMT4Ii",
        "outputId": "cb7c2015-f51d-47a8-ecb9-9e7cb16005ad"
      },
      "source": [
        "import time\r\n",
        "\r\n",
        "# First we define a register of 13 qubits, 1 ancilla, and 12 to work with the\r\n",
        "# oracle function.\r\n",
        "\r\n",
        "qubits = 13\r\n",
        "my_qpu = get_ground_state(qubits)\r\n",
        "\r\n",
        "# we apply the x gate to the last qubit for the oracle implementation\r\n",
        "# then, we apply Hadamard gate to all qubits\r\n",
        "# we apply CNOT to each qubit with the last register as target\r\n",
        "# finally we perform Hadamard gate to all qubits again.\r\n",
        "\r\n",
        "my_circuit = [\r\n",
        "{ \"gate\": \"x\", \"target\":  [qubits - 1] },\r\n",
        "{ \"gate\": \"h\", \"target\": range(0, qubits) },\r\n",
        "{ \"gate\": \"cx\",  \"control\": [0], \"target\": [qubits - 1] },\r\n",
        "{ \"gate\": \"cx\",  \"control\": [1], \"target\": [qubits - 1] },\r\n",
        "{ \"gate\": \"cx\",  \"control\": [2], \"target\": [qubits - 1] },\r\n",
        "{ \"gate\": \"cx\",  \"control\": [3], \"target\": [qubits - 1] },\r\n",
        "{ \"gate\": \"cx\",  \"control\": [4], \"target\": [qubits - 1] },\r\n",
        "{ \"gate\": \"cx\",  \"control\": [5], \"target\": [qubits - 1] },\r\n",
        "{ \"gate\": \"cx\",  \"control\": [6], \"target\": [qubits - 1] },\r\n",
        "{ \"gate\": \"cx\",  \"control\": [7], \"target\": [qubits - 1] },\r\n",
        "{ \"gate\": \"cx\",  \"control\": [8], \"target\": [qubits - 1] },\r\n",
        "{ \"gate\": \"cx\",  \"control\": [9], \"target\": [qubits - 1] },\r\n",
        "{ \"gate\": \"cx\",  \"control\": [10], \"target\": [qubits - 1] },\r\n",
        "{ \"gate\": \"cx\",  \"control\": [11], \"target\": [qubits - 1] },\r\n",
        "{ \"gate\": \"cx\",  \"control\": [12], \"target\": [qubits - 1] },\r\n",
        "{ \"gate\": \"h\", \"target\": range(0, qubits) }\r\n",
        "]\r\n",
        "\r\n",
        "#we run the program on CPU\r\n",
        "start = time.time()\r\n",
        "final_state = run_program(my_qpu, my_circuit, cuda = False)\r\n",
        "end = time.time()\r\n",
        "print('Exe time: ' + str(end - start))\r\n",
        "counts = get_counts(final_state, 16000, print_results = True)"
      ],
      "execution_count": 2,
      "outputs": [
        {
          "output_type": "stream",
          "text": [
            "Exe time: 13.599707126617432\n",
            "{\n",
            "\t\"1111111111111\" : 16000\n",
            "}\n"
          ],
          "name": "stdout"
        }
      ]
    },
    {
      "cell_type": "code",
      "metadata": {
        "colab": {
          "base_uri": "https://localhost:8080/"
        },
        "id": "9U_bOv39a-td",
        "outputId": "70d01bff-090e-43fe-b973-6b7c6639cd33"
      },
      "source": [
        "#we run the program on CUDA\r\n",
        "start = time.time()\r\n",
        "final_state = run_program(my_qpu, my_circuit, cuda = True)\r\n",
        "end = time.time()\r\n",
        "print('Exe time: ' + str(end - start))\r\n",
        "counts = get_counts(final_state, 16000, print_results = True)"
      ],
      "execution_count": 3,
      "outputs": [
        {
          "output_type": "stream",
          "text": [
            "Exe time: 6.139760732650757\n",
            "{\n",
            "\t\"1111111111111\" : 16000\n",
            "}\n"
          ],
          "name": "stdout"
        }
      ]
    },
    {
      "cell_type": "markdown",
      "metadata": {
        "id": "23z3lpI-bF35"
      },
      "source": [
        "\r\n",
        "Measuring the qubits showed in both examples all ones, indicating the implemented balanced function. Moreover, the execution time when using GPUs reduced 64.55 times the same operation performed in CPU. This shows how we can speed up quantum circuit simulations with the help of modern GPUs and popular frameworks such as PyTorch. \r\n",
        "\r\n"
      ]
    },
    {
      "cell_type": "markdown",
      "metadata": {
        "id": "T51lyIia-67a"
      },
      "source": [
        "**CPU vs GPU**"
      ]
    },
    {
      "cell_type": "markdown",
      "metadata": {
        "id": "qaMhKtIe_G6d"
      },
      "source": [
        "To compare the performance of our GPU Quantum Circuit Simulator with its CPU version, we measured the execution time of each circuit for multiple qubits (1 to 11). Then, we plotted the obtained information to visualize identify the benefits of our GPU Quantum Simulator.\r\n",
        "\r\n",
        "\r\n",
        "\r\n"
      ]
    },
    {
      "cell_type": "code",
      "metadata": {
        "id": "Rn1fB3lcAUTx"
      },
      "source": [
        "import time\r\n",
        "\r\n",
        "QUBITS = 15\r\n",
        "\r\n",
        "def test_simulator(cuda):\r\n",
        "    execution_times = []\r\n",
        "\r\n",
        "    for qubits in range(2, QUBITS):\r\n",
        "        \r\n",
        "        my_qpu = get_ground_state(qubits)\r\n",
        "\r\n",
        "        my_circuit = [\r\n",
        "        { \"gate\": \"x\", \"target\":  [qubits - 1] },\r\n",
        "        { \"gate\": \"h\", \"target\": range(0, qubits) },\r\n",
        "        { \"gate\": \"cx\",  \"control\": [0], \"target\": [qubits - 1] },\r\n",
        "        { \"gate\": \"h\", \"target\": range(0, qubits) },\r\n",
        "        { \"gate\": \"z\", \"target\":  [qubits - 1] },\r\n",
        "        { \"gate\": \"h\", \"target\": range(0, qubits) },\r\n",
        "        { \"gate\": \"y\", \"target\":  [qubits - 1] },\r\n",
        "        { \"gate\": \"h\", \"target\": range(0, qubits) }\r\n",
        "        ]\r\n",
        "\r\n",
        "        start = time.time()\r\n",
        "        final_state = run_program(my_qpu, my_circuit, cuda = cuda)\r\n",
        "        end = time.time()\r\n",
        "\r\n",
        "        execution_times.append(end - start)\r\n",
        "\r\n",
        "    return execution_times\r\n",
        "\r\n",
        "\r\n",
        "cuda_times = test_simulator(True)\r\n",
        "cpu_times = test_simulator(False)"
      ],
      "execution_count": 27,
      "outputs": []
    },
    {
      "cell_type": "code",
      "metadata": {
        "colab": {
          "base_uri": "https://localhost:8080/",
          "height": 311
        },
        "id": "u4IYmCRdCufU",
        "outputId": "73436cba-bef6-40e7-a519-f73c03905e0a"
      },
      "source": [
        "import numpy as np\r\n",
        "import matplotlib.pyplot as plt\r\n",
        "import scipy.stats as stats\r\n",
        "mu = 0\r\n",
        "std = 1\r\n",
        "\r\n",
        "x = np.linspace(start=-4, stop=4, num=100)\r\n",
        "y = stats.norm.pdf(x, mu, std) \r\n",
        "line1 = plt.plot(range(2,QUBITS), cuda_times, label='Cuda')\r\n",
        "line2 = plt.plot(range(2,QUBITS), cpu_times, label='Cpu')\r\n",
        "plt.legend()\r\n",
        "plt.tight_layout()\r\n",
        "plt.grid()\r\n",
        "plt.xlabel(\"Number of Qubits\")\r\n",
        "plt.ylabel(\"Execution time (Seconds)\")\r\n",
        "\r\n",
        "plt.show()"
      ],
      "execution_count": 25,
      "outputs": [
        {
          "output_type": "display_data",
          "data": {
            "image/png": "[encoded data removed]",
            "text/plain": [
              "<Figure size 432x288 with 1 Axes>"
            ]
          },
          "metadata": {
            "tags": [],
            "needs_background": "light"
          }
        }
      ]
    },
    {
      "cell_type": "markdown",
      "metadata": {
        "id": "OLxSRdtbMMH9"
      },
      "source": [
        "**Conclusion**\r\n",
        "\r\n",
        "As proved in the aforementioned examples, our simulator is capable of performing quntum algorithms like the Deutsch-Jozsa algorithm. Moreover, our GPU Quantum Circuit Simulator performs better that its CPU version, proving that implemented simulators with the option of GPU acceleration could be a good asset to speed up quantum simulations.\r\n"
      ]
    },
    {
      "cell_type": "markdown",
      "metadata": {
        "id": "PW9UMW8XcTtd"
      },
      "source": [
        "# Requirement 2\r\n",
        "\r\n",
        "Add support of parametric gates to the quantum circuit simulator.\r\n",
        "\r\n",
        "Example of a program with parametric gates:\r\n",
        "\r\n",
        "`{ \"gate\": \"u3\", \"params\": { \"theta\": 3.1415, \"phi\": 1.5708, \"lambda\": -3.1415 }, \"target\": [0] }`\r\n",
        "\r\n",
        "which translates to the next operator.\r\n",
        "\r\n",
        "\r\n",
        "\r\n",
        "```\r\n",
        "[ 0+0j,  1+0j]\r\n",
        "\r\n",
        "[ 0+1j,  0+0j]\r\n",
        "```\r\n",
        "\r\n",
        "\r\n"
      ]
    },
    {
      "cell_type": "markdown",
      "metadata": {
        "id": "OAjPSngCmSSC"
      },
      "source": [
        "**U3 Gate Formulation**\r\n",
        "\r\n",
        "This gate is a generic single-qubit rotation with 3 Euler angles.\r\n",
        "\r\n",
        "$\r\n",
        "\\begin{align}\\begin{aligned}\\newcommand{\\th}{\\frac{\\theta}{2}}\\\\\\begin{split}U3(\\theta, \\phi, \\lambda) =\r\n",
        "    \\begin{pmatrix}\r\n",
        "        \\cos(\\th)          & -e^{i\\lambda}\\sin(\\th) \\\\\r\n",
        "        e^{i\\phi}\\sin(\\th) & e^{i(\\phi+\\lambda)}\\cos(\\th)\r\n",
        "    \\end{pmatrix}\\end{split}\\end{aligned}\\end{align}\r\n",
        "$\r\n",
        "\r\n",
        "**Implementation**"
      ]
    },
    {
      "cell_type": "code",
      "metadata": {
        "colab": {
          "base_uri": "https://localhost:8080/"
        },
        "id": "e7zq12qL2-8n",
        "outputId": "9511b016-85ef-4c9f-f24d-93b340852eec"
      },
      "source": [
        "qubits = 1\r\n",
        "my_qpu = get_ground_state(qubits)\r\n",
        "\r\n",
        "#we define the u3 gate\r\n",
        "my_circuit = [\r\n",
        "{ \"gate\": \"u3\", \"params\": { \"theta\": 3.1415, \"phi\": 1.5708, \"lambda\":  -3.1415}, \"target\": [0] }\r\n",
        "]\r\n",
        "\r\n",
        "#we print the final result and the operation matrix as well \r\n",
        "final_state = run_program(my_qpu, my_circuit, cuda = False)\r\n",
        "counts = get_counts(final_state, 1000, print_results = True)\r\n"
      ],
      "execution_count": 6,
      "outputs": [
        {
          "output_type": "stream",
          "text": [
            "{\n",
            "\t\"1\" : 1000\n",
            "}\n"
          ],
          "name": "stdout"
        }
      ]
    },
    {
      "cell_type": "markdown",
      "metadata": {
        "id": "6L3pjc7ipYrA"
      },
      "source": [
        "# Requirement 3\r\n",
        "\r\n",
        "Allow running variational quantum algorithms\r\n",
        "\r\n",
        "In some applications, it is important to find the minimum eigenvalue of a matrix. In the case of chemistry, the minimum eigenvalue of a Hermitian matrix characterizing the molecule is the ground state energy of the system. This could be solved using a quantum phase estimation algorithm, however, implementing this kind of algorithms exceed the limits of hardware available in the NISQ era. Then, in 2014, Peruzzo et al. proposed a VQE, which uses much shallower circuits to solve the problem of the ground state energy of a molecule.\r\n",
        "\r\n",
        "**Implementation**\r\n",
        "\r\n",
        "In this example we use a single qubit variational form to solve a problem similar to the ground state energy estimation. We are given a random probability vector $\\vec{x}$ and we wish to determine a possible parametrization for a single qubit. Such that when measured, the probability distribution is close to the determined before with $\\vec{x}$.\r\n"
      ]
    },
    {
      "cell_type": "code",
      "metadata": {
        "colab": {
          "base_uri": "https://localhost:8080/"
        },
        "id": "yZTa1XKbhZNA",
        "outputId": "bf0c4f38-3c7c-4238-94ef-671dd46a1d82"
      },
      "source": [
        "import numpy as np\r\n",
        "# np.random.seed(999990)\r\n",
        "target_distr = np.random.rand(2)\r\n",
        "# target_distr = np.array([0.9834016, 0.0165984])\r\n",
        "#we define the target distribution\r\n",
        "target_distr /= sum(target_distr)\r\n",
        "NUM_SHOTS = 10000\r\n",
        "print('Target dist: ', target_distr)\r\n",
        "\r\n",
        "def get_var_form(params):\r\n",
        "\r\n",
        "    # return the final count for the parameterized circuit given 3 euler angles \r\n",
        "\r\n",
        "    qubits =1\r\n",
        "    my_qpu = get_ground_state(qubits)\r\n",
        "    my_circuit = [\r\n",
        "    { \"gate\": \"u3\", \"params\":\r\n",
        "     { \"theta\": None, \"phi\": None, \"lambda\": None }, \"target\": [0] }\r\n",
        "    ]\r\n",
        "\r\n",
        "    final_state = run_program(my_qpu, my_circuit, \r\n",
        "                              {\"theta\": params[0],\r\n",
        "                               \"phi\": params[1], \r\n",
        "                               \"lambda\": params[2]}, \r\n",
        "                              cuda = True)\r\n",
        "    return final_state\r\n",
        "\r\n",
        "def get_probability_distribution(counts):\r\n",
        "\r\n",
        "    # return the probability distribution given a measaurement of multiple shoots\r\n",
        "\r\n",
        "    output_distr = [v[1] / NUM_SHOTS for v in sorted(counts.items())]\r\n",
        "    if len(output_distr) == 1:\r\n",
        "        output_distr.append(1 - output_distr[0])\r\n",
        "\r\n",
        "    return output_distr\r\n",
        "\r\n",
        "def objective_function(params):\r\n",
        "\r\n",
        "    # Calculate the cost as the distance between the output distribution and the target distribution\r\n",
        "\r\n",
        "    final_state = get_var_form(params)\r\n",
        "    result = get_counts(final_state, NUM_SHOTS)\r\n",
        "    output_distr = get_probability_distribution(result)\r\n",
        "    cost = sum([np.abs(output_distr[i] - target_distr[i]) for i in range(2)])\r\n",
        "    return cost"
      ],
      "execution_count": 7,
      "outputs": [
        {
          "output_type": "stream",
          "text": [
            "Target dist:  [0.20415248 0.79584752]\n"
          ],
          "name": "stdout"
        }
      ]
    },
    {
      "cell_type": "code",
      "metadata": {
        "id": "e5Tg2vDSc62M"
      },
      "source": [
        "!pip install qiskit ipywidgets &> /dev/null"
      ],
      "execution_count": 9,
      "outputs": []
    },
    {
      "cell_type": "code",
      "metadata": {
        "colab": {
          "base_uri": "https://localhost:8080/"
        },
        "id": "NLyZm-7SmUmV",
        "outputId": "9aaed6bb-63dd-4bc7-c4b1-86e66ae4ef09"
      },
      "source": [
        "from qiskit.aqua.components.optimizers import COBYLA\r\n",
        "\r\n",
        "# Initialize the COBYLA optimizer\r\n",
        "optimizer = COBYLA(maxiter=1000, tol=0.00001)\r\n",
        "\r\n",
        "# Create the initial parameters (noting that our single qubit variational form has 3 parameters)\r\n",
        "params = np.random.rand(3)\r\n",
        "ret = optimizer.optimize(num_vars=3, objective_function=objective_function, initial_point=params)\r\n",
        "\r\n",
        "# Obtain the output distribution using the final parameters\r\n",
        "final_state = get_var_form(ret[0])\r\n",
        "result = get_counts(final_state, NUM_SHOTS)\r\n",
        "output_distr = get_probability_distribution(result)\r\n",
        "\r\n",
        "print(\"Target Distribution:\", target_distr)\r\n",
        "print(\"Obtained Distribution:\", output_distr)\r\n",
        "print(\"Output Error (Manhattan Distance):\", ret[1])\r\n",
        "print(\"Parameters Found:\", ret[0])"
      ],
      "execution_count": 10,
      "outputs": [
        {
          "output_type": "stream",
          "text": [
            "Target Distribution: [0.20415248 0.79584752]\n",
            "Obtained Distribution: [0.2058, 0.7942]\n",
            "Output Error (Manhattan Distance): 0.012304962473901115\n",
            "Parameters Found: [4.07209616 1.57452526 1.78357923]\n"
          ],
          "name": "stdout"
        }
      ]
    },
    {
      "cell_type": "markdown",
      "metadata": {
        "id": "Lg6yk2YY-L7l"
      },
      "source": [
        "**Conclusion**\r\n",
        "\r\n",
        "Machine learning approaches based in classical von Neumann architecture have been widely popular in either academic or industrial domains. Now, researchers have tried to implement machine learning approaches in the recent available quantum computers. However, it is hard to simulate classical deep learning models due to the intractability of deep quantum circuits. Thus, a new approach for feasible quantum machine learning is required. Variational quantum circuits were the response to that need and one of the key ingredients to implement them, is a parametrized quantum circuit, such as the one we can build with U3 Gates. U3 gates let us build Quantum Machine Learning solutions, at least for the near term NISQ devices which are available right now.\r\n"
      ]
    },
    {
      "cell_type": "code",
      "metadata": {
        "id": "vNkC68QGJZYj"
      },
      "source": [
        ""
      ],
      "execution_count": null,
      "outputs": []
    }
  ]
}